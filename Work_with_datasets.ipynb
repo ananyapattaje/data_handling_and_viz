{
  "nbformat": 4,
  "nbformat_minor": 0,
  "metadata": {
    "colab": {
      "provenance": [],
      "authorship_tag": "ABX9TyNvUCIJalG/XR22nbAbP67x",
      "include_colab_link": true
    },
    "kernelspec": {
      "name": "python3",
      "display_name": "Python 3"
    },
    "language_info": {
      "name": "python"
    }
  },
  "cells": [
    {
      "cell_type": "markdown",
      "metadata": {
        "id": "view-in-github",
        "colab_type": "text"
      },
      "source": [
        "<a href=\"https://colab.research.google.com/github/ananyapattaje/data_handling_and_viz/blob/main/Work_with_datasets.ipynb\" target=\"_parent\"><img src=\"https://colab.research.google.com/assets/colab-badge.svg\" alt=\"Open In Colab\"/></a>"
      ]
    },
    {
      "cell_type": "code",
      "source": [
        "import pandas as pd\n",
        "import numpy as np\n",
        "from functools import reduce\n",
        "df=pd.read_csv('/content/Datasets/BL-Flickr-Images-Book.csv')\n",
        "df.head()\n",
        "df.info()\n",
        "to_drop = ['Edition Statement','Corporate Author','Corporate Contributors','Former owner','Engraver','Contributors','Issuance type','Shelfmarks']\n",
        "df.drop(to_drop,inplace=True,axis=1)\n",
        "df.head()\n",
        "df.info()\n",
        "df.set_index('Identifier',inplace=True)\n",
        "df.head()\n",
        "df['Date of Publication'].head(25)\n",
        "unwanted_characters=['[',',','-']\n",
        "def clean_dates(item):\n",
        "  dop=str(item.loc['Date of Publication'])\n",
        "  if dop=='nan' or dop[0]=='[':\n",
        "    return np.NAN\n",
        "  for character in unwanted_characters:\n",
        "    if character in dop:\n",
        "      character_index = dop.find(character)\n",
        "      dop = dop[:character_index]\n",
        "  return dop\n",
        "df['Date of Publication']=df.apply(clean_dates,axis=1)"
      ],
      "metadata": {
        "colab": {
          "base_uri": "https://localhost:8080/"
        },
        "id": "91tt2szWvTtZ",
        "outputId": "71284f30-81f4-458c-8c9e-57b2198789f4"
      },
      "execution_count": 3,
      "outputs": [
        {
          "output_type": "stream",
          "name": "stdout",
          "text": [
            "<class 'pandas.core.frame.DataFrame'>\n",
            "RangeIndex: 8287 entries, 0 to 8286\n",
            "Data columns (total 15 columns):\n",
            " #   Column                  Non-Null Count  Dtype  \n",
            "---  ------                  --------------  -----  \n",
            " 0   Identifier              8287 non-null   int64  \n",
            " 1   Edition Statement       773 non-null    object \n",
            " 2   Place of Publication    8287 non-null   object \n",
            " 3   Date of Publication     8106 non-null   object \n",
            " 4   Publisher               4092 non-null   object \n",
            " 5   Title                   8287 non-null   object \n",
            " 6   Author                  6509 non-null   object \n",
            " 7   Contributors            8287 non-null   object \n",
            " 8   Corporate Author        0 non-null      float64\n",
            " 9   Corporate Contributors  0 non-null      float64\n",
            " 10  Former owner            1 non-null      object \n",
            " 11  Engraver                0 non-null      float64\n",
            " 12  Issuance type           8287 non-null   object \n",
            " 13  Flickr URL              8287 non-null   object \n",
            " 14  Shelfmarks              8287 non-null   object \n",
            "dtypes: float64(3), int64(1), object(11)\n",
            "memory usage: 971.3+ KB\n",
            "<class 'pandas.core.frame.DataFrame'>\n",
            "RangeIndex: 8287 entries, 0 to 8286\n",
            "Data columns (total 7 columns):\n",
            " #   Column                Non-Null Count  Dtype \n",
            "---  ------                --------------  ----- \n",
            " 0   Identifier            8287 non-null   int64 \n",
            " 1   Place of Publication  8287 non-null   object\n",
            " 2   Date of Publication   8106 non-null   object\n",
            " 3   Publisher             4092 non-null   object\n",
            " 4   Title                 8287 non-null   object\n",
            " 5   Author                6509 non-null   object\n",
            " 6   Flickr URL            8287 non-null   object\n",
            "dtypes: int64(1), object(6)\n",
            "memory usage: 453.3+ KB\n"
          ]
        }
      ]
    }
  ]
}